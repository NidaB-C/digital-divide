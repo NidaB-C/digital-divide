{
 "cells": [
  {
   "cell_type": "code",
   "execution_count": 8,
   "id": "b00ca491",
   "metadata": {},
   "outputs": [],
   "source": [
    "# Import the dependencies.\n",
    "import numpy as np\n",
    "import datetime as dt\n",
    "from datetime import datetime\n",
    "from dateutil.relativedelta import relativedelta\n",
    "\n",
    "import sqlalchemy\n",
    "from sqlalchemy.ext.automap import automap_base\n",
    "from sqlalchemy.orm import Session\n",
    "from sqlalchemy import create_engine, func\n",
    "from sqlalchemy import desc\n",
    "\n",
    "from flask import Flask, jsonify"
   ]
  },
  {
   "cell_type": "code",
   "execution_count": 10,
   "id": "9c601aa3",
   "metadata": {},
   "outputs": [],
   "source": [
    "#################################################\n",
    "# Database Setup\n",
    "#################################################\n",
    "engine = create_engine(\"sqlite:///database.sqlite\")\n",
    "\n",
    "# reflect an existing database into a new model\n",
    "#Base = automap_base()\n",
    "\n",
    "# reflect the tables\n",
    "#Base.prepare(autoload_with=engine)\n"
   ]
  },
  {
   "cell_type": "code",
   "execution_count": 11,
   "id": "c632d63f",
   "metadata": {},
   "outputs": [],
   "source": [
    "# Save references to each table\n",
    "#activity_types = Base.classes.keys\n",
    "#activity_types"
   ]
  },
  {
   "cell_type": "code",
   "execution_count": 12,
   "id": "e567ab55",
   "metadata": {},
   "outputs": [],
   "source": [
    "# 10.1 Set app name as \"app\" and start Flask\n",
    "app = Flask(__name__)"
   ]
  },
  {
   "cell_type": "code",
   "execution_count": 13,
   "id": "257b050e",
   "metadata": {},
   "outputs": [],
   "source": [
    "@app.route(\"/\")\n",
    "def welcome():\n",
    "    \"\"\"List all available api routes.\"\"\"\n",
    "    session = Session(engine)\n",
    "    execute_string = \"select * from ActivityTypes\"\n",
    "    activity_types = engine.execute(execute_string).fetchall()\n",
    "    session.close()\n",
    "    print(f\"{activity_types}\")\n",
    "    activity_type_dict = {}\n",
    "    for row in activity_type_dict[0]:\n",
    "        print(f\"{row}\")\n",
    "        activity_type_dict=({\n",
    "                                    \"Activity Type ID\": row[1],\n",
    "                                    \"Activity Type\": row[2]\n",
    "                                   })\n",
    "        \n",
    "    print(f\"{activity_type_dict}\")    \n",
    "\n",
    "    return(jsonify(activity_type_dict))"
   ]
  },
  {
   "cell_type": "code",
   "execution_count": null,
   "id": "140b2da9",
   "metadata": {},
   "outputs": [],
   "source": []
  }
 ],
 "metadata": {
  "kernelspec": {
   "display_name": "Python 3 (ipykernel)",
   "language": "python",
   "name": "python3"
  },
  "language_info": {
   "codemirror_mode": {
    "name": "ipython",
    "version": 3
   },
   "file_extension": ".py",
   "mimetype": "text/x-python",
   "name": "python",
   "nbconvert_exporter": "python",
   "pygments_lexer": "ipython3",
   "version": "3.10.13"
  }
 },
 "nbformat": 4,
 "nbformat_minor": 5
}
