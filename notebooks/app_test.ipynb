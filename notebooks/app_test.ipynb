{
 "cells": [
  {
   "cell_type": "code",
   "execution_count": 12,
   "id": "fc709b84",
   "metadata": {},
   "outputs": [],
   "source": [
    "# Import the dependencies.\n",
    "from pathlib import Path\n",
    "import sqlite3\n",
    "from sqlalchemy import create_engine, text\n",
    "import sqlalchemy\n",
    "from sqlalchemy.ext.automap import automap_base\n",
    "from sqlalchemy.orm import Session\n",
    "from sqlalchemy import create_engine, func\n",
    "from sqlalchemy import desc\n",
    "\n",
    "from flask import Flask, jsonify\n",
    "\n",
    "import pandas as pd\n",
    "\n",
    "\n",
    "\n",
    "# Create a reference to the file. \n",
    "database_path = Path(\"database.sqlite\")"
   ]
  },
  {
   "cell_type": "code",
   "execution_count": 13,
   "id": "674120df",
   "metadata": {},
   "outputs": [],
   "source": [
    "# Create an engine that can talk to the database\n",
    "engine = create_engine(f\"sqlite:///{database_path}\", echo=True)"
   ]
  },
  {
   "cell_type": "code",
   "execution_count": 18,
   "id": "806fb20b",
   "metadata": {},
   "outputs": [
    {
     "name": "stdout",
     "output_type": "stream",
     "text": [
      "2024-02-07 19:44:09,623 INFO sqlalchemy.engine.Engine SELECT * FROM activity_types\n",
      "2024-02-07 19:44:09,626 INFO sqlalchemy.engine.Engine [generated in 0.00334s] ()\n",
      "('AT001', 'Treadmill Running')\n",
      "('AT002', 'Running')\n",
      "('AT003', 'Indoor Rowing')\n",
      "('AT004', 'Pool Swimming')\n",
      "('AT005', 'Cardio')\n"
     ]
    }
   ],
   "source": [
    "# Query All Records in the the Database\n",
    "query = text(\"SELECT * FROM activity_types\")\n",
    "data = engine.execute(query)\n",
    "\n",
    "for record in data:\n",
    "    print(record)"
   ]
  },
  {
   "cell_type": "code",
   "execution_count": 16,
   "id": "19c580b1",
   "metadata": {},
   "outputs": [
    {
     "name": "stdout",
     "output_type": "stream",
     "text": [
      "2024-02-07 19:43:43,917 INFO sqlalchemy.engine.Engine SELECT * FROM sqlite_master UNION ALL   SELECT * FROM sqlite_temp_master\n",
      "2024-02-07 19:43:43,920 INFO sqlalchemy.engine.Engine [generated in 0.00330s] ()\n",
      "('table', 'ActivityTypes', 'ActivityTypes', 2, 'CREATE TABLE \"ActivityTypes\" (\\n\"Activity Type ID\" TEXT,\\n  \"Activity Type\" TEXT\\n)')\n",
      "('table', 'activity_types', 'activity_types', 3, 'CREATE TABLE \"activity_types\" (\\n\"Activity Type ID\" TEXT,\\n  \"Activity Type\" TEXT\\n)')\n"
     ]
    }
   ],
   "source": [
    "q2 = text(\"SELECT * FROM sqlite_master UNION ALL   SELECT * FROM sqlite_temp_master\")\n",
    "data2 = engine.execute(q2)\n",
    "for r in data2:\n",
    "    print(r)"
   ]
  },
  {
   "cell_type": "code",
   "execution_count": 15,
   "id": "88fabe61",
   "metadata": {},
   "outputs": [
    {
     "name": "stdout",
     "output_type": "stream",
     "text": [
      "2024-02-07 19:42:56,533 INFO sqlalchemy.engine.Engine SELECT name FROM sqlite_master WHERE type='table' ORDER BY name\n",
      "2024-02-07 19:42:56,539 INFO sqlalchemy.engine.Engine [raw sql] ()\n",
      "2024-02-07 19:42:56,544 INFO sqlalchemy.engine.Engine PRAGMA main.table_xinfo(\"ActivityTypes\")\n",
      "2024-02-07 19:42:56,545 INFO sqlalchemy.engine.Engine [raw sql] ()\n",
      "2024-02-07 19:42:56,548 INFO sqlalchemy.engine.Engine SELECT sql FROM  (SELECT * FROM sqlite_master UNION ALL   SELECT * FROM sqlite_temp_master) WHERE name = ? AND type = 'table'\n",
      "2024-02-07 19:42:56,550 INFO sqlalchemy.engine.Engine [raw sql] ('ActivityTypes',)\n",
      "2024-02-07 19:42:56,555 INFO sqlalchemy.engine.Engine PRAGMA main.foreign_key_list(\"ActivityTypes\")\n",
      "2024-02-07 19:42:56,557 INFO sqlalchemy.engine.Engine [raw sql] ()\n",
      "2024-02-07 19:42:56,561 INFO sqlalchemy.engine.Engine PRAGMA temp.foreign_key_list(\"ActivityTypes\")\n",
      "2024-02-07 19:42:56,564 INFO sqlalchemy.engine.Engine [raw sql] ()\n",
      "2024-02-07 19:42:56,567 INFO sqlalchemy.engine.Engine SELECT sql FROM  (SELECT * FROM sqlite_master UNION ALL   SELECT * FROM sqlite_temp_master) WHERE name = ? AND type = 'table'\n",
      "2024-02-07 19:42:56,569 INFO sqlalchemy.engine.Engine [raw sql] ('ActivityTypes',)\n",
      "2024-02-07 19:42:56,574 INFO sqlalchemy.engine.Engine PRAGMA main.index_list(\"ActivityTypes\")\n",
      "2024-02-07 19:42:56,576 INFO sqlalchemy.engine.Engine [raw sql] ()\n",
      "2024-02-07 19:42:56,579 INFO sqlalchemy.engine.Engine PRAGMA temp.index_list(\"ActivityTypes\")\n",
      "2024-02-07 19:42:56,579 INFO sqlalchemy.engine.Engine [raw sql] ()\n",
      "2024-02-07 19:42:56,581 INFO sqlalchemy.engine.Engine PRAGMA main.index_list(\"ActivityTypes\")\n",
      "2024-02-07 19:42:56,582 INFO sqlalchemy.engine.Engine [raw sql] ()\n",
      "2024-02-07 19:42:56,583 INFO sqlalchemy.engine.Engine PRAGMA temp.index_list(\"ActivityTypes\")\n",
      "2024-02-07 19:42:56,584 INFO sqlalchemy.engine.Engine [raw sql] ()\n",
      "2024-02-07 19:42:56,584 INFO sqlalchemy.engine.Engine SELECT sql FROM  (SELECT * FROM sqlite_master UNION ALL   SELECT * FROM sqlite_temp_master) WHERE name = ? AND type = 'table'\n",
      "2024-02-07 19:42:56,585 INFO sqlalchemy.engine.Engine [raw sql] ('ActivityTypes',)\n",
      "2024-02-07 19:42:56,588 INFO sqlalchemy.engine.Engine PRAGMA main.table_xinfo(\"activity_types\")\n",
      "2024-02-07 19:42:56,590 INFO sqlalchemy.engine.Engine [raw sql] ()\n",
      "2024-02-07 19:42:56,595 INFO sqlalchemy.engine.Engine SELECT sql FROM  (SELECT * FROM sqlite_master UNION ALL   SELECT * FROM sqlite_temp_master) WHERE name = ? AND type = 'table'\n",
      "2024-02-07 19:42:56,597 INFO sqlalchemy.engine.Engine [raw sql] ('activity_types',)\n",
      "2024-02-07 19:42:56,599 INFO sqlalchemy.engine.Engine PRAGMA main.foreign_key_list(\"activity_types\")\n",
      "2024-02-07 19:42:56,599 INFO sqlalchemy.engine.Engine [raw sql] ()\n",
      "2024-02-07 19:42:56,601 INFO sqlalchemy.engine.Engine PRAGMA temp.foreign_key_list(\"activity_types\")\n",
      "2024-02-07 19:42:56,602 INFO sqlalchemy.engine.Engine [raw sql] ()\n",
      "2024-02-07 19:42:56,605 INFO sqlalchemy.engine.Engine SELECT sql FROM  (SELECT * FROM sqlite_master UNION ALL   SELECT * FROM sqlite_temp_master) WHERE name = ? AND type = 'table'\n",
      "2024-02-07 19:42:56,605 INFO sqlalchemy.engine.Engine [raw sql] ('activity_types',)\n",
      "2024-02-07 19:42:56,607 INFO sqlalchemy.engine.Engine PRAGMA main.index_list(\"activity_types\")\n",
      "2024-02-07 19:42:56,608 INFO sqlalchemy.engine.Engine [raw sql] ()\n",
      "2024-02-07 19:42:56,611 INFO sqlalchemy.engine.Engine PRAGMA temp.index_list(\"activity_types\")\n",
      "2024-02-07 19:42:56,613 INFO sqlalchemy.engine.Engine [raw sql] ()\n",
      "2024-02-07 19:42:56,614 INFO sqlalchemy.engine.Engine PRAGMA main.index_list(\"activity_types\")\n",
      "2024-02-07 19:42:56,615 INFO sqlalchemy.engine.Engine [raw sql] ()\n",
      "2024-02-07 19:42:56,616 INFO sqlalchemy.engine.Engine PRAGMA temp.index_list(\"activity_types\")\n",
      "2024-02-07 19:42:56,617 INFO sqlalchemy.engine.Engine [raw sql] ()\n",
      "2024-02-07 19:42:56,618 INFO sqlalchemy.engine.Engine SELECT sql FROM  (SELECT * FROM sqlite_master UNION ALL   SELECT * FROM sqlite_temp_master) WHERE name = ? AND type = 'table'\n",
      "2024-02-07 19:42:56,621 INFO sqlalchemy.engine.Engine [raw sql] ('activity_types',)\n"
     ]
    },
    {
     "data": {
      "text/plain": [
       "[]"
      ]
     },
     "execution_count": 15,
     "metadata": {},
     "output_type": "execute_result"
    }
   ],
   "source": [
    "Base = automap_base()\n",
    "Base.prepare(autoload_with=engine)\n",
    "Base.classes.keys()"
   ]
  },
  {
   "cell_type": "code",
   "execution_count": 3,
   "id": "145274a8",
   "metadata": {},
   "outputs": [],
   "source": [
    "# Load csv file into pandas dataframe\n",
    "df = pd.read_csv('../data/processed/activity_types.csv')\n",
    "df=df.head()"
   ]
  },
  {
   "cell_type": "code",
   "execution_count": 6,
   "id": "d2248a35",
   "metadata": {},
   "outputs": [],
   "source": [
    "# Creating SQLite database\n",
    "conn = sqlite3.connect('database.sqlite')\n",
    "cursor = conn.cursor()"
   ]
  },
  {
   "cell_type": "code",
   "execution_count": 7,
   "id": "8bf9540d",
   "metadata": {},
   "outputs": [
    {
     "data": {
      "text/plain": [
       "<sqlite3.Cursor at 0x19b58486a40>"
      ]
     },
     "execution_count": 7,
     "metadata": {},
     "output_type": "execute_result"
    }
   ],
   "source": [
    "# Table Definition\n",
    "create_table = '''CREATE TABLE activity_types(\n",
    "                ActivityTypeID Text PRIMARY KEY,\n",
    "                ActivityType Text NOT NULL);\n",
    "                '''\n",
    "\n",
    "# Creating the table into our database\n",
    "cursor.execute(create_table)"
   ]
  },
  {
   "cell_type": "code",
   "execution_count": 9,
   "id": "8c70b59e",
   "metadata": {},
   "outputs": [
    {
     "data": {
      "text/plain": [
       "5"
      ]
     },
     "execution_count": 9,
     "metadata": {},
     "output_type": "execute_result"
    }
   ],
   "source": [
    "# insert the data from the DataFrame into the SQLite table\n",
    "df.to_sql('activity_types', conn, if_exists='replace', index = False)"
   ]
  },
  {
   "cell_type": "code",
   "execution_count": 10,
   "id": "c58dd5f9",
   "metadata": {},
   "outputs": [],
   "source": [
    "# commit the changes and close the connection\n",
    "conn.commit()"
   ]
  },
  {
   "cell_type": "code",
   "execution_count": 11,
   "id": "954c1aeb",
   "metadata": {},
   "outputs": [],
   "source": [
    "conn.close()"
   ]
  },
  {
   "cell_type": "code",
   "execution_count": null,
   "id": "310d693a",
   "metadata": {},
   "outputs": [],
   "source": []
  }
 ],
 "metadata": {
  "kernelspec": {
   "display_name": "Python 3 (ipykernel)",
   "language": "python",
   "name": "python3"
  },
  "language_info": {
   "codemirror_mode": {
    "name": "ipython",
    "version": 3
   },
   "file_extension": ".py",
   "mimetype": "text/x-python",
   "name": "python",
   "nbconvert_exporter": "python",
   "pygments_lexer": "ipython3",
   "version": "3.10.13"
  }
 },
 "nbformat": 4,
 "nbformat_minor": 5
}
